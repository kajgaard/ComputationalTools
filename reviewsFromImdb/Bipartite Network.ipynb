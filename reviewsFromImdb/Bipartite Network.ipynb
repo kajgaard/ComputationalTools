{
 "cells": [
  {
   "cell_type": "markdown",
   "id": "72cd30c5",
   "metadata": {},
   "source": []
  },
  {
   "cell_type": "code",
   "execution_count": null,
   "id": "086b54b4",
   "metadata": {},
   "outputs": [],
   "source": [
    "import pandas as pd\n",
    "import numpy as np\n",
    "import re\n",
    "import networkx as nx\n",
    "import matplotlib.pyplot as plt\n",
    "from fa2 import ForceAtlas2\n",
    "import community\n",
    "from itertools import combinations\n",
    "import networkx.algorithms.community as nx_comm\n",
    "import re\n",
    "\n",
    "df1 = pd.read_pickle(\"networkData1.pkl\")\n",
    "df2 = pd.read_pickle(\"networkData2.pkl\")\n",
    "df3 = pd.read_pickle(\"networkData3.pkl\")\n",
    "\n",
    "frames = [df1, df2, df3]\n",
    "moviesDf = pd.concat(frames)"
   ]
  }
 ],
 "metadata": {
  "kernelspec": {
   "display_name": "Python 3 (ipykernel)",
   "language": "python",
   "name": "python3"
  },
  "language_info": {
   "codemirror_mode": {
    "name": "ipython",
    "version": 3
   },
   "file_extension": ".py",
   "mimetype": "text/x-python",
   "name": "python",
   "nbconvert_exporter": "python",
   "pygments_lexer": "ipython3",
   "version": "3.9.13"
  }
 },
 "nbformat": 4,
 "nbformat_minor": 5
}
