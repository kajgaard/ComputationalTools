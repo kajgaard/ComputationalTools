{
 "cells": [
  {
   "cell_type": "markdown",
   "id": "35b398ea",
   "metadata": {},
   "source": [
    "# Retrieving data from file \n",
    "Dataset can be found here: https://ai.stanford.edu/~amaas/data/sentiment/"
   ]
  },
  {
   "cell_type": "code",
   "execution_count": 1,
   "id": "66096e15",
   "metadata": {},
   "outputs": [
    {
     "name": "stdout",
     "output_type": "stream",
     "text": [
      "Requirement already satisfied: natsort in c:\\users\\maria\\anaconda3\\lib\\site-packages (8.2.0)\n",
      "Note: you may need to restart the kernel to use updated packages.\n"
     ]
    }
   ],
   "source": [
    "pip install natsort"
   ]
  },
  {
   "cell_type": "code",
   "execution_count": null,
   "id": "317bbe6e",
   "metadata": {},
   "outputs": [],
   "source": [
    "import numpy as np\n",
    "import pandas as pd\n",
    "import os\n",
    "import glob\n",
    "import re\n",
    "from natsort import natsorted, ns, os_sorted"
   ]
  },
  {
   "cell_type": "markdown",
   "id": "a2f322af",
   "metadata": {},
   "source": [
    "We will need some global variables.."
   ]
  },
  {
   "cell_type": "code",
   "execution_count": 23,
   "id": "542833dd",
   "metadata": {},
   "outputs": [],
   "source": [
    "listOfMovieIds = []"
   ]
  },
  {
   "cell_type": "markdown",
   "id": "0131a9ac",
   "metadata": {},
   "source": [
    "The next function reads the data from the directory and plots it to a datafram with both the titleId and the corrresponding review. "
   ]
  },
  {
   "cell_type": "code",
   "execution_count": 29,
   "id": "0af68544",
   "metadata": {},
   "outputs": [],
   "source": [
    "def get_data_from(mdir):\n",
    "    \n",
    "    path = os.getcwd() + \"/\\data//\" + mdir \n",
    "    txt_files = glob.glob(os.path.join(path, \"*.txt\"))\n",
    "    \n",
    "    txt_files = os_sorted(txt_files) #now a sorted list of txt files\n",
    "\n",
    "    # loop over the list of txt files\n",
    "    reviews = [] \n",
    "    for f in txt_files:\n",
    "        # read the file\n",
    "        with open(f, encoding=\"utf8\") as content:\n",
    "\n",
    "            review = str(content.readlines())\n",
    "            reviews.append(review)\n",
    "\n",
    "    d = {'reviews': reviews} \n",
    "    df_reviews = pd.DataFrame(data=d) \n",
    "    \n",
    "    \n",
    "    # opening the file in read mode\n",
    "    my_file = open(\"data/urls_\" + mdir + \".txt\", \"r\")\n",
    "\n",
    "    # reading the file\n",
    "    data = my_file.read()\n",
    "\n",
    "    # replacing end splitting the text \n",
    "    # when newline ('\\n') is seen.\n",
    "    data_into_list = re.findall(\"tt(\\d{7})\", data) #retrieve only the titleId's from the urls\n",
    "    my_file.close()\n",
    "\n",
    "    d = {'titleId': data_into_list}\n",
    "    df_ids = pd.DataFrame(data=d)\n",
    "    \n",
    "    extracted_col = df_ids[\"titleId\"]\n",
    "    df = df_reviews.join(extracted_col)\n",
    "    \n",
    "\n",
    "    return (df)"
   ]
  },
  {
   "cell_type": "markdown",
   "id": "8a95dfb3",
   "metadata": {},
   "source": [
    "## Collecting the data into a single dataframe"
   ]
  },
  {
   "cell_type": "code",
   "execution_count": 30,
   "id": "3e28b9e3",
   "metadata": {},
   "outputs": [],
   "source": [
    "df1 = get_data_from(\"pos\")\n",
    "df2 = get_data_from(\"neg\")\n",
    "df = pd.concat([df1, df2], ignore_index=True) #merge the dataframes"
   ]
  },
  {
   "cell_type": "code",
   "execution_count": 33,
   "id": "d7532be2",
   "metadata": {},
   "outputs": [],
   "source": [
    "df.to_pickle(\"reviewsDf.pkl\")"
   ]
  }
 ],
 "metadata": {
  "kernelspec": {
   "display_name": "Python 3 (ipykernel)",
   "language": "python",
   "name": "python3"
  },
  "language_info": {
   "codemirror_mode": {
    "name": "ipython",
    "version": 3
   },
   "file_extension": ".py",
   "mimetype": "text/x-python",
   "name": "python",
   "nbconvert_exporter": "python",
   "pygments_lexer": "ipython3",
   "version": "3.9.7"
  }
 },
 "nbformat": 4,
 "nbformat_minor": 5
}
